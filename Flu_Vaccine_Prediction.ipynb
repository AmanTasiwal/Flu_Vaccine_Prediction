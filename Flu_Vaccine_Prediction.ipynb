{
  "nbformat": 4,
  "nbformat_minor": 0,
  "metadata": {
    "colab": {
      "provenance": [],
      "gpuType": "T4"
    },
    "kernelspec": {
      "name": "python3",
      "display_name": "Python 3"
    },
    "language_info": {
      "name": "python"
    },
    "accelerator": "GPU"
  },
  "cells": [
    {
      "cell_type": "code",
      "execution_count": 1,
      "metadata": {
        "colab": {
          "base_uri": "https://localhost:8080/"
        },
        "id": "UyUnqlDAAAXu",
        "outputId": "af7e03f3-c275-4f54-9a43-dedec63d363d"
      },
      "outputs": [
        {
          "output_type": "stream",
          "name": "stdout",
          "text": [
            "   respondent_id  xyz_concern  xyz_knowledge  behavioral_antiviral_meds  \\\n",
            "0              0          1.0            0.0                        0.0   \n",
            "1              1          3.0            2.0                        0.0   \n",
            "2              2          1.0            1.0                        0.0   \n",
            "3              3          1.0            1.0                        0.0   \n",
            "4              4          2.0            1.0                        0.0   \n",
            "\n",
            "   behavioral_avoidance  behavioral_face_mask  behavioral_wash_hands  \\\n",
            "0                   0.0                   0.0                    0.0   \n",
            "1                   1.0                   0.0                    1.0   \n",
            "2                   1.0                   0.0                    0.0   \n",
            "3                   1.0                   0.0                    1.0   \n",
            "4                   1.0                   0.0                    1.0   \n",
            "\n",
            "   behavioral_large_gatherings  behavioral_outside_home  \\\n",
            "0                          0.0                      1.0   \n",
            "1                          0.0                      1.0   \n",
            "2                          0.0                      0.0   \n",
            "3                          1.0                      0.0   \n",
            "4                          1.0                      0.0   \n",
            "\n",
            "   behavioral_touch_face  ...             income_poverty  marital_status  \\\n",
            "0                    1.0  ...              Below Poverty     Not Married   \n",
            "1                    1.0  ...              Below Poverty     Not Married   \n",
            "2                    0.0  ...  <= $75,000, Above Poverty     Not Married   \n",
            "3                    0.0  ...              Below Poverty     Not Married   \n",
            "4                    1.0  ...  <= $75,000, Above Poverty         Married   \n",
            "\n",
            "   rent_or_own   employment_status  hhs_geo_region                census_msa  \\\n",
            "0          Own  Not in Labor Force        oxchjgsf                   Non-MSA   \n",
            "1         Rent            Employed        bhuqouqj  MSA, Not Principle  City   \n",
            "2          Own            Employed        qufhixun  MSA, Not Principle  City   \n",
            "3         Rent  Not in Labor Force        lrircsnp       MSA, Principle City   \n",
            "4          Own            Employed        qufhixun  MSA, Not Principle  City   \n",
            "\n",
            "   household_adults  household_children  employment_industry  \\\n",
            "0               0.0                 0.0                  NaN   \n",
            "1               0.0                 0.0             pxcmvdjn   \n",
            "2               2.0                 0.0             rucpziij   \n",
            "3               0.0                 0.0                  NaN   \n",
            "4               1.0                 0.0             wxleyezf   \n",
            "\n",
            "   employment_occupation  \n",
            "0                    NaN  \n",
            "1               xgwztkwe  \n",
            "2               xtkaffoo  \n",
            "3                    NaN  \n",
            "4               emcorrxb  \n",
            "\n",
            "[5 rows x 36 columns]\n",
            "   respondent_id  xyz_vaccine  seasonal_vaccine\n",
            "0              0            0                 0\n",
            "1              1            0                 1\n",
            "2              2            0                 0\n",
            "3              3            0                 1\n",
            "4              4            0                 0\n",
            "   respondent_id  xyz_concern  xyz_knowledge  behavioral_antiviral_meds  \\\n",
            "0          26707          2.0            2.0                        0.0   \n",
            "1          26708          1.0            1.0                        0.0   \n",
            "2          26709          2.0            2.0                        0.0   \n",
            "3          26710          1.0            1.0                        0.0   \n",
            "4          26711          3.0            1.0                        1.0   \n",
            "\n",
            "   behavioral_avoidance  behavioral_face_mask  behavioral_wash_hands  \\\n",
            "0                   1.0                   0.0                    1.0   \n",
            "1                   0.0                   0.0                    0.0   \n",
            "2                   0.0                   1.0                    1.0   \n",
            "3                   0.0                   0.0                    0.0   \n",
            "4                   1.0                   0.0                    1.0   \n",
            "\n",
            "   behavioral_large_gatherings  behavioral_outside_home  \\\n",
            "0                          1.0                      0.0   \n",
            "1                          0.0                      0.0   \n",
            "2                          1.0                      1.0   \n",
            "3                          0.0                      0.0   \n",
            "4                          1.0                      1.0   \n",
            "\n",
            "   behavioral_touch_face  ...             income_poverty  marital_status  \\\n",
            "0                    1.0  ...                  > $75,000     Not Married   \n",
            "1                    0.0  ...              Below Poverty     Not Married   \n",
            "2                    1.0  ...                  > $75,000         Married   \n",
            "3                    0.0  ...  <= $75,000, Above Poverty         Married   \n",
            "4                    1.0  ...  <= $75,000, Above Poverty     Not Married   \n",
            "\n",
            "   rent_or_own   employment_status  hhs_geo_region                census_msa  \\\n",
            "0         Rent            Employed        mlyzmhmf  MSA, Not Principle  City   \n",
            "1         Rent            Employed        bhuqouqj                   Non-MSA   \n",
            "2          Own            Employed        lrircsnp                   Non-MSA   \n",
            "3          Own  Not in Labor Force        lrircsnp  MSA, Not Principle  City   \n",
            "4          Own            Employed        lzgpxyit                   Non-MSA   \n",
            "\n",
            "   household_adults  household_children  employment_industry  \\\n",
            "0               1.0                 0.0             atmlpfrs   \n",
            "1               3.0                 0.0             atmlpfrs   \n",
            "2               1.0                 0.0             nduyfdeo   \n",
            "3               1.0                 0.0                  NaN   \n",
            "4               0.0                 1.0             fcxhlnwr   \n",
            "\n",
            "   employment_occupation  \n",
            "0               hfxkjkmi  \n",
            "1               xqwwgdyp  \n",
            "2               pvmttkik  \n",
            "3                    NaN  \n",
            "4               mxkfnird  \n",
            "\n",
            "[5 rows x 36 columns]\n"
          ]
        }
      ],
      "source": [
        "import pandas as pd\n",
        "\n",
        "# Load datasets\n",
        "train_features = pd.read_csv('/content/training_set_features.csv')\n",
        "train_labels = pd.read_csv('/content/training_set_labels.csv')\n",
        "test_features = pd.read_csv('/content/test_set_features.csv')\n",
        "\n",
        "# Display the first few rows of each dataset\n",
        "print(train_features.head())\n",
        "print(train_labels.head())\n",
        "print(test_features.head())\n"
      ]
    },
    {
      "cell_type": "code",
      "source": [
        "from sklearn.preprocessing import LabelEncoder\n",
        "\n",
        "# Identify categorical columns\n",
        "categorical_cols = train_features.select_dtypes(include=['object']).columns\n",
        "\n",
        "# Apply LabelEncoder to each categorical column\n",
        "label_encoders = {}\n",
        "for col in categorical_cols:\n",
        "    le = LabelEncoder()\n",
        "    train_features[col] = le.fit_transform(train_features[col].astype(str))\n",
        "    test_features[col] = le.transform(test_features[col].astype(str))\n",
        "    label_encoders[col] = le\n",
        "\n",
        "# Handle missing values (if any)\n",
        "train_features.fillna(-1, inplace=True)\n",
        "test_features.fillna(-1, inplace=True)\n"
      ],
      "metadata": {
        "id": "mvsfMFxyCrtP"
      },
      "execution_count": 3,
      "outputs": []
    },
    {
      "cell_type": "code",
      "source": [
        "from sklearn.ensemble import RandomForestClassifier\n",
        "from sklearn.model_selection import train_test_split\n",
        "from sklearn.metrics import roc_auc_score\n",
        "\n",
        "# Split the training data into train and validation sets\n",
        "X = train_features.drop(columns=['respondent_id'])\n",
        "y_xyz = train_labels['xyz_vaccine']\n",
        "y_seasonal = train_labels['seasonal_vaccine']\n",
        "\n",
        "X_train, X_val, y_train_xyz, y_val_xyz = train_test_split(X, y_xyz, test_size=0.2, random_state=42)\n",
        "X_train, X_val, y_train_seasonal, y_val_seasonal = train_test_split(X, y_seasonal, test_size=0.2, random_state=42)\n",
        "\n",
        "# Train the model for xyz_vaccine\n",
        "model_xyz = RandomForestClassifier(random_state=42)\n",
        "model_xyz.fit(X_train, y_train_xyz)\n",
        "y_pred_xyz = model_xyz.predict_proba(X_val)[:, 1]\n",
        "\n",
        "# Train the model for seasonal_vaccine\n",
        "model_seasonal = RandomForestClassifier(random_state=42)\n",
        "model_seasonal.fit(X_train, y_train_seasonal)\n",
        "y_pred_seasonal = model_seasonal.predict_proba(X_val)[:, 1]\n",
        "\n",
        "# Evaluate the models\n",
        "roc_auc_xyz = roc_auc_score(y_val_xyz, y_pred_xyz)\n",
        "roc_auc_seasonal = roc_auc_score(y_val_seasonal, y_pred_seasonal)\n",
        "print(f'ROC AUC for xyz_vaccine: {roc_auc_xyz}')\n",
        "print(f'ROC AUC for seasonal_vaccine: {roc_auc_seasonal}')\n"
      ],
      "metadata": {
        "colab": {
          "base_uri": "https://localhost:8080/"
        },
        "id": "u2bDESIxCVqI",
        "outputId": "eeecd882-7a2c-4289-8f01-445e791afc15"
      },
      "execution_count": 4,
      "outputs": [
        {
          "output_type": "stream",
          "name": "stdout",
          "text": [
            "ROC AUC for xyz_vaccine: 0.8633481876475977\n",
            "ROC AUC for seasonal_vaccine: 0.8561853137827957\n"
          ]
        }
      ]
    },
    {
      "cell_type": "code",
      "source": [
        "# Make predictions on the test set\n",
        "test_X = test_features.drop(columns=['respondent_id'])\n",
        "\n",
        "test_predictions_xyz = model_xyz.predict_proba(test_X)[:, 1]\n",
        "test_predictions_seasonal = model_seasonal.predict_proba(test_X)[:, 1]\n",
        "\n",
        "# Prepare the submission DataFrame\n",
        "submission = pd.DataFrame({\n",
        "    'respondent_id': test_features['respondent_id'],\n",
        "    'xyz_vaccine': test_predictions_xyz,\n",
        "    'seasonal_vaccine': test_predictions_seasonal\n",
        "})\n",
        "\n",
        "# Save the submission file\n",
        "submission.to_csv('/content/submission_format.csv', index=False)\n",
        "print(submission.head())\n"
      ],
      "metadata": {
        "colab": {
          "base_uri": "https://localhost:8080/"
        },
        "id": "Onl6W5TeCVsk",
        "outputId": "86a6cc68-2343-4c16-d3e9-cd27cd8ba5bd"
      },
      "execution_count": 5,
      "outputs": [
        {
          "output_type": "stream",
          "name": "stdout",
          "text": [
            "   respondent_id  xyz_vaccine  seasonal_vaccine\n",
            "0          26707         0.18              0.37\n",
            "1          26708         0.08              0.04\n",
            "2          26709         0.28              0.75\n",
            "3          26710         0.60              0.90\n",
            "4          26711         0.34              0.52\n"
          ]
        }
      ]
    },
    {
      "cell_type": "code",
      "source": [],
      "metadata": {
        "id": "dov9LSBRCVvC"
      },
      "execution_count": null,
      "outputs": []
    },
    {
      "cell_type": "code",
      "source": [],
      "metadata": {
        "id": "gFtoqAyqCVxm"
      },
      "execution_count": null,
      "outputs": []
    },
    {
      "cell_type": "code",
      "source": [],
      "metadata": {
        "id": "yEzLDAISCVz7"
      },
      "execution_count": null,
      "outputs": []
    },
    {
      "cell_type": "code",
      "source": [],
      "metadata": {
        "id": "96PGKTstCV2S"
      },
      "execution_count": null,
      "outputs": []
    },
    {
      "cell_type": "code",
      "source": [],
      "metadata": {
        "id": "_TfQvsKjCV40"
      },
      "execution_count": null,
      "outputs": []
    },
    {
      "cell_type": "code",
      "source": [],
      "metadata": {
        "id": "mlnJDqnrCV7Z"
      },
      "execution_count": null,
      "outputs": []
    },
    {
      "cell_type": "code",
      "source": [],
      "metadata": {
        "id": "PrydHHZOCV99"
      },
      "execution_count": null,
      "outputs": []
    },
    {
      "cell_type": "code",
      "source": [],
      "metadata": {
        "id": "-FGN-e7OCWAT"
      },
      "execution_count": null,
      "outputs": []
    },
    {
      "cell_type": "code",
      "source": [],
      "metadata": {
        "id": "nYEvF4xnCWCu"
      },
      "execution_count": null,
      "outputs": []
    },
    {
      "cell_type": "code",
      "source": [],
      "metadata": {
        "id": "LpEIyKD5CWGN"
      },
      "execution_count": null,
      "outputs": []
    }
  ]
}